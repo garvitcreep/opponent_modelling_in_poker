{
  "nbformat": 4,
  "nbformat_minor": 0,
  "metadata": {
    "colab": {
      "provenance": []
    },
    "kernelspec": {
      "name": "python3",
      "display_name": "Python 3"
    },
    "language_info": {
      "name": "python"
    }
  },
  "cells": [
    {
      "cell_type": "code",
      "execution_count": 1,
      "metadata": {
        "colab": {
          "base_uri": "https://localhost:8080/"
        },
        "id": "4yqEeBOlFdLL",
        "outputId": "48be8d96-00b7-4366-e462-2b80ef5f4aeb"
      },
      "outputs": [
        {
          "output_type": "stream",
          "name": "stdout",
          "text": [
            "Epoch 1/10\n",
            "2/2 [==============================] - 2s 955ms/step - loss: 2.4749 - accuracy: 0.3333 - val_loss: 0.5722 - val_accuracy: 1.0000\n",
            "Epoch 2/10\n",
            "2/2 [==============================] - 0s 77ms/step - loss: 2.4427 - accuracy: 0.3333 - val_loss: 0.5904 - val_accuracy: 1.0000\n",
            "Epoch 3/10\n",
            "2/2 [==============================] - 0s 167ms/step - loss: 2.4002 - accuracy: 0.3333 - val_loss: 0.6057 - val_accuracy: 1.0000\n",
            "Epoch 4/10\n",
            "2/2 [==============================] - 0s 80ms/step - loss: 2.3643 - accuracy: 0.3333 - val_loss: 0.6196 - val_accuracy: 1.0000\n",
            "Epoch 5/10\n",
            "2/2 [==============================] - 0s 136ms/step - loss: 2.3247 - accuracy: 0.3333 - val_loss: 0.6326 - val_accuracy: 1.0000\n",
            "Epoch 6/10\n",
            "2/2 [==============================] - 0s 146ms/step - loss: 2.3011 - accuracy: 0.3333 - val_loss: 0.6482 - val_accuracy: 1.0000\n",
            "Epoch 7/10\n",
            "2/2 [==============================] - 0s 133ms/step - loss: 2.2605 - accuracy: 0.3333 - val_loss: 0.6629 - val_accuracy: 1.0000\n",
            "Epoch 8/10\n",
            "2/2 [==============================] - 0s 104ms/step - loss: 2.2256 - accuracy: 0.3333 - val_loss: 0.6796 - val_accuracy: 1.0000\n",
            "Epoch 9/10\n",
            "2/2 [==============================] - 0s 142ms/step - loss: 2.2065 - accuracy: 0.3333 - val_loss: 0.6965 - val_accuracy: 1.0000\n",
            "Epoch 10/10\n",
            "2/2 [==============================] - 0s 148ms/step - loss: 2.1653 - accuracy: 0.3333 - val_loss: 0.7121 - val_accuracy: 1.0000\n",
            "1/1 [==============================] - 0s 142ms/step\n",
            "Predicted probabilities for Fold, Call, Raise: [[0.80808157 0.16767272 0.02424583]]\n"
          ]
        }
      ],
      "source": [
        "import numpy as np\n",
        "import tensorflow as tf\n",
        "from tensorflow import keras\n",
        "from sklearn.model_selection import train_test_split\n",
        "\n",
        "# Generate some example data (input features and target labels)\n",
        "# In a real scenario, this data would come from your poker game simulations\n",
        "# Features: [game_stage, num_players, pot_ratio]\n",
        "# Labels: [Fold, Call, Raise]\n",
        "features = np.array([[0.2, 4, 0.3], [0.5, 2, 0.7], [0.8, 6, 0.5], [0.3, 3, 0.4]])\n",
        "labels = np.array([[0, 1, 0], [1, 0, 0], [0, 0, 1], [1, 0, 0]])\n",
        "\n",
        "# Split data into training and testing sets\n",
        "X_train, X_test, y_train, y_test = train_test_split(features, labels, test_size=0.2, random_state=42)\n",
        "\n",
        "# Define a simple neural network model\n",
        "model = keras.Sequential([\n",
        "    keras.layers.Dense(10, activation='relu', input_shape=(3,)),\n",
        "    keras.layers.Dense(3, activation='softmax')  # Output layer for Fold, Call, Raise\n",
        "])\n",
        "\n",
        "# Compile the model\n",
        "model.compile(optimizer='adam', loss='categorical_crossentropy', metrics=['accuracy'])\n",
        "\n",
        "# Train the model\n",
        "model.fit(X_train, y_train, epochs=10, batch_size=2, validation_data=(X_test, y_test))\n",
        "\n",
        "# Predict opponent actions\n",
        "# In a real scenario, these input features would be based on the game state\n",
        "input_features = np.array([[0.6, 5, 0.4]])  # Sample input\n",
        "predictions = model.predict(input_features)\n",
        "print(\"Predicted probabilities for Fold, Call, Raise:\", predictions)\n"
      ]
    }
  ]
}